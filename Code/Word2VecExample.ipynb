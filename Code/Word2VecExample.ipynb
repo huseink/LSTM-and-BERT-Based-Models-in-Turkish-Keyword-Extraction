{
 "cells": [
  {
   "cell_type": "code",
   "execution_count": 1,
   "id": "liquid-lithuania",
   "metadata": {},
   "outputs": [],
   "source": [
    "from gensim.models.word2vec import LineSentence\n",
    "from gensim.models import Word2Vec\n",
    "import pandas as pd\n",
    "import nltk\n",
    "import xml.etree.ElementTree as ET\n",
    "import os\n",
    "import gensim"
   ]
  },
  {
   "cell_type": "code",
   "execution_count": 2,
   "id": "supposed-implementation",
   "metadata": {},
   "outputs": [],
   "source": [
    "text ='kalp hız değişken  KHD otonom sinir sistem parasempatik ve sempatik baskın hak bilgi vermek önem bir fizyolojik işaret parasempatik ve sempatik baskın alçak frekans af frekans  YF güç oran şekil tanımlamak ve  sempatovagal denge olmak ifade etmek bu çalışmak  ventriküler  taşiaritmi hasta  sempatovagal denge değer incelemek ve aynı hasta ait normal kayıt el etmek değer ile karşılaştırmak  Ventriküler  taşiaritmi kayıt en düşük ve en yüksek normal kayıt en düşük ve en yüksek  sempatovagal denge değer el etmek'"
   ]
  },
  {
   "cell_type": "code",
   "execution_count": 3,
   "id": "prepared-shanghai",
   "metadata": {},
   "outputs": [],
   "source": [
    "t_list = text.split(\"\\n\") \n",
    "corpus =[]\n",
    "for kelime in t_list:\n",
    "    corpus.append(kelime.split())"
   ]
  },
  {
   "cell_type": "code",
   "execution_count": 4,
   "id": "competent-idaho",
   "metadata": {},
   "outputs": [
    {
     "name": "stdout",
     "output_type": "stream",
     "text": [
      "[['kalp', 'hız', 'değişken', 'KHD', 'otonom', 'sinir', 'sistem', 'parasempatik', 've', 'sempatik', 'baskın', 'hak', 'bilgi', 'vermek', 'önem', 'bir', 'fizyolojik', 'işaret', 'parasempatik', 've', 'sempatik', 'baskın', 'alçak', 'frekans', 'af', 'frekans', 'YF', 'güç', 'oran', 'şekil', 'tanımlamak', 've', 'sempatovagal', 'denge', 'olmak', 'ifade', 'etmek', 'bu', 'çalışmak', 'ventriküler', 'taşiaritmi', 'hasta', 'sempatovagal', 'denge', 'değer', 'incelemek', 've', 'aynı', 'hasta', 'ait', 'normal', 'kayıt', 'el', 'etmek', 'değer', 'ile', 'karşılaştırmak', 'Ventriküler', 'taşiaritmi', 'kayıt', 'en', 'düşük', 've', 'en', 'yüksek', 'normal', 'kayıt', 'en', 'düşük', 've', 'en', 'yüksek', 'sempatovagal', 'denge', 'değer', 'el', 'etmek']]\n"
     ]
    }
   ],
   "source": [
    "print(corpus)"
   ]
  },
  {
   "cell_type": "code",
   "execution_count": 15,
   "id": "special-ending",
   "metadata": {},
   "outputs": [],
   "source": [
    "model =Word2Vec(corpus, vector_size =100,window = 10, min_count= 1, sg = 1)"
   ]
  },
  {
   "cell_type": "code",
   "execution_count": 16,
   "id": "swedish-producer",
   "metadata": {},
   "outputs": [
    {
     "data": {
      "text/plain": [
       "array([ 0.00257343,  0.0009152 , -0.00272429,  0.00941781,  0.00286092,\n",
       "        0.00395093, -0.00112175,  0.00096914,  0.00657888, -0.00071178,\n",
       "        0.00333274, -0.00064342,  0.00534477,  0.00378793,  0.00270827,\n",
       "       -0.00536537, -0.00464633,  0.00440532, -0.00585624, -0.00029142,\n",
       "       -0.00055702,  0.0034822 , -0.00827781,  0.00863552, -0.00138247,\n",
       "       -0.00539115,  0.00392245, -0.00185963, -0.00778244, -0.00451402,\n",
       "       -0.00012725, -0.00901292,  0.00069251,  0.00242025, -0.00329061,\n",
       "        0.00272715,  0.00243609,  0.01006245,  0.00130076,  0.00192729,\n",
       "        0.00275341, -0.00204384, -0.0086426 ,  0.00798127, -0.00197355,\n",
       "       -0.00978393, -0.00665621, -0.003969  ,  0.00399298,  0.00497969,\n",
       "        0.00615243, -0.00685438,  0.00060298, -0.00281416, -0.0052058 ,\n",
       "        0.00713979,  0.0039647 , -0.00312257, -0.00825989, -0.00530879,\n",
       "       -0.00069255,  0.00763427,  0.0062737 , -0.00829799, -0.00968709,\n",
       "        0.00736962, -0.00236203, -0.00357048,  0.00546856, -0.00566443,\n",
       "        0.00498551, -0.00014479, -0.00678859, -0.00025246,  0.00649394,\n",
       "        0.00920449,  0.00221164,  0.00510436, -0.00508601, -0.00079238,\n",
       "       -0.00551564,  0.00116515, -0.00184341, -0.00346967, -0.00686881,\n",
       "        0.00960157,  0.00310853, -0.00232378, -0.00410274,  0.00777182,\n",
       "       -0.00642319,  0.00304958,  0.00073477,  0.00823721,  0.00689469,\n",
       "       -0.00295124,  0.00256284, -0.00161596, -0.00948151, -0.0026274 ],\n",
       "      dtype=float32)"
      ]
     },
     "execution_count": 16,
     "metadata": {},
     "output_type": "execute_result"
    }
   ],
   "source": [
    "model.wv[\"otonom\"]"
   ]
  },
  {
   "cell_type": "code",
   "execution_count": 17,
   "id": "italic-reach",
   "metadata": {},
   "outputs": [
    {
     "data": {
      "text/plain": [
       "[('şekil', 0.18771766126155853),\n",
       " ('sempatovagal', 0.1518976092338562),\n",
       " ('sempatik', 0.11530083417892456),\n",
       " ('frekans', 0.10876582562923431),\n",
       " ('etmek', 0.09679125994443893),\n",
       " ('önem', 0.08942242711782455),\n",
       " ('tanımlamak', 0.0893431156873703),\n",
       " ('ve', 0.08425476402044296),\n",
       " ('ait', 0.08418311923742294),\n",
       " ('karşılaştırmak', 0.07699253410100937)]"
      ]
     },
     "execution_count": 17,
     "metadata": {},
     "output_type": "execute_result"
    }
   ],
   "source": [
    "model.wv.most_similar(\"otonom\")"
   ]
  },
  {
   "cell_type": "code",
   "execution_count": 8,
   "id": "massive-triple",
   "metadata": {},
   "outputs": [
    {
     "name": "stdout",
     "output_type": "stream",
     "text": [
      "[['kalp', 'hız', 'değişken', 'KHD', 'otonom', 'sinir', 'sistem', 'parasempatik', 've', 'sempatik', 'baskın', 'hak', 'bilgi', 'vermek', 'önem', 'bir', 'fizyolojik', 'işaret', 'parasempatik', 've', 'sempatik', 'baskın', 'alçak', 'frekans', 'af', 'frekans', 'YF', 'güç', 'oran', 'şekil', 'tanımlamak', 've', 'sempatovagal', 'denge', 'olmak', 'ifade', 'etmek', 'bu', 'çalışmak', 'ventriküler', 'taşiaritmi', 'hasta', 'sempatovagal', 'denge', 'değer', 'incelemek', 've', 'aynı', 'hasta', 'ait', 'normal', 'kayıt', 'el', 'etmek', 'değer', 'ile', 'karşılaştırmak', 'Ventriküler', 'taşiaritmi', 'kayıt', 'en', 'düşük', 've', 'en', 'yüksek', 'normal', 'kayıt', 'en', 'düşük', 've', 'en', 'yüksek', 'sempatovagal', 'denge', 'değer', 'el', 'etmek']]\n"
     ]
    }
   ],
   "source": [
    "print(corpus)"
   ]
  },
  {
   "cell_type": "code",
   "execution_count": null,
   "id": "disturbed-sherman",
   "metadata": {},
   "outputs": [],
   "source": []
  },
  {
   "cell_type": "code",
   "execution_count": null,
   "id": "external-design",
   "metadata": {},
   "outputs": [],
   "source": []
  }
 ],
 "metadata": {
  "kernelspec": {
   "display_name": "Python 3",
   "language": "python",
   "name": "python3"
  },
  "language_info": {
   "codemirror_mode": {
    "name": "ipython",
    "version": 3
   },
   "file_extension": ".py",
   "mimetype": "text/x-python",
   "name": "python",
   "nbconvert_exporter": "python",
   "pygments_lexer": "ipython3",
   "version": "3.8.5"
  }
 },
 "nbformat": 4,
 "nbformat_minor": 5
}
