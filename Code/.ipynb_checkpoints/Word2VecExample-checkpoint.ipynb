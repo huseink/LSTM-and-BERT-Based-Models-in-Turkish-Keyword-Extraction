{
 "cells": [
  {
   "cell_type": "code",
   "execution_count": 1,
   "id": "liquid-lithuania",
   "metadata": {},
   "outputs": [],
   "source": [
    "from gensim.models.word2vec import LineSentence\n",
    "from gensim.models import Word2Vec\n",
    "import pandas as pd\n",
    "import nltk\n",
    "import xml.etree.ElementTree as ET\n",
    "import os\n",
    "import gensim"
   ]
  },
  {
   "cell_type": "code",
   "execution_count": 2,
   "id": "supposed-implementation",
   "metadata": {},
   "outputs": [],
   "source": [
    "text ='kalp hız değişken  KHD otonom sinir sistem parasempatik ve sempatik baskın hak bilgi vermek önem bir fizyolojik işaret parasempatik ve sempatik baskın alçak frekans af frekans  YF güç oran şekil tanımlamak ve  sempatovagal denge olmak ifade etmek bu çalışmak  ventriküler  taşiaritmi hasta  sempatovagal denge değer incelemek ve aynı hasta ait normal kayıt el etmek değer ile karşılaştırmak  Ventriküler  taşiaritmi kayıt en düşük ve en yüksek normal kayıt en düşük ve en yüksek  sempatovagal denge değer el etmek'"
   ]
  },
  {
   "cell_type": "code",
   "execution_count": 5,
   "id": "prepared-shanghai",
   "metadata": {},
   "outputs": [],
   "source": [
    "t_list = text.split(\"\\n\") \n",
    "corpus =[]\n",
    "for kelime in t_list:\n",
    "    corpus.append(kelime.split())"
   ]
  },
  {
   "cell_type": "code",
   "execution_count": 6,
   "id": "competent-idaho",
   "metadata": {},
   "outputs": [
    {
     "name": "stdout",
     "output_type": "stream",
     "text": [
      "[['kalp', 'hız', 'değişken', 'KHD', 'otonom', 'sinir', 'sistem', 'parasempatik', 've', 'sempatik', 'baskın', 'hak', 'bilgi', 'vermek', 'önem', 'bir', 'fizyolojik', 'işaret', 'parasempatik', 've', 'sempatik', 'baskın', 'alçak', 'frekans', 'af', 'frekans', 'YF', 'güç', 'oran', 'şekil', 'tanımlamak', 've', 'sempatovagal', 'denge', 'olmak', 'ifade', 'etmek', 'bu', 'çalışmak', 'ventriküler', 'taşiaritmi', 'hasta', 'sempatovagal', 'denge', 'değer', 'incelemek', 've', 'aynı', 'hasta', 'ait', 'normal', 'kayıt', 'el', 'etmek', 'değer', 'ile', 'karşılaştırmak', 'Ventriküler', 'taşiaritmi', 'kayıt', 'en', 'düşük', 've', 'en', 'yüksek', 'normal', 'kayıt', 'en', 'düşük', 've', 'en', 'yüksek', 'sempatovagal', 'denge', 'değer', 'el', 'etmek']]\n"
     ]
    }
   ],
   "source": [
    "print(corpus)"
   ]
  },
  {
   "cell_type": "code",
   "execution_count": 23,
   "id": "special-ending",
   "metadata": {},
   "outputs": [],
   "source": [
    "model =Word2Vec(corpus, vector_size =100,window = 10, min_count= 1, sg = 0)"
   ]
  },
  {
   "cell_type": "code",
   "execution_count": 27,
   "id": "swedish-producer",
   "metadata": {},
   "outputs": [
    {
     "data": {
      "text/plain": [
       "array([ 0.00963715,  0.00733405,  0.00122251, -0.0033945 , -0.00043466,\n",
       "        0.00038391, -0.00639579,  0.00576979,  0.00235102,  0.00377549,\n",
       "       -0.00725662,  0.00853469,  0.00052165, -0.0001799 , -0.00904884,\n",
       "        0.00404306,  0.00678434,  0.00737201, -0.00641401, -0.00789561,\n",
       "       -0.00551581, -0.0006116 , -0.00830616, -0.00829057, -0.00190444,\n",
       "        0.0011203 , -0.00952969, -0.00371648,  0.00064404,  0.00680722,\n",
       "        0.00180147, -0.0006481 , -0.00746185, -0.00674887, -0.00070472,\n",
       "        0.00749684,  0.00544102, -0.00147345,  0.00115653, -0.00962786,\n",
       "       -0.00138666, -0.00462682,  0.00582178, -0.00234356, -0.00475172,\n",
       "       -0.00950277, -0.00121619, -0.00719707, -0.00167393, -0.00407791,\n",
       "       -0.00235102, -0.003246  , -0.00816678, -0.00124414,  0.0016829 ,\n",
       "       -0.00401298, -0.00763162, -0.00359051, -0.00903903, -0.00078623,\n",
       "        0.00588026, -0.00299478,  0.00321395,  0.00502352,  0.00844152,\n",
       "        0.00567535,  0.00950794, -0.00962674, -0.00802325, -0.00671402,\n",
       "       -0.00749512, -0.00793961, -0.00777456, -0.00292642,  0.00143067,\n",
       "       -0.00288981, -0.00881424,  0.00500568,  0.00088304,  0.00458742,\n",
       "        0.00716177,  0.00764842, -0.00081443,  0.00369683, -0.00509472,\n",
       "        0.00189853,  0.00455278,  0.00987527, -0.0031658 ,  0.00286132,\n",
       "       -0.00572646, -0.00222697,  0.00812131, -0.00392671, -0.00116138,\n",
       "       -0.00930409, -0.00947541,  0.00888967, -0.00569583,  0.00504867],\n",
       "      dtype=float32)"
      ]
     },
     "execution_count": 27,
     "metadata": {},
     "output_type": "execute_result"
    }
   ],
   "source": [
    "model.wv[\"hız\"]"
   ]
  },
  {
   "cell_type": "code",
   "execution_count": 28,
   "id": "italic-reach",
   "metadata": {},
   "outputs": [
    {
     "data": {
      "text/plain": [
       "[('hak', 0.21637380123138428),\n",
       " ('değer', 0.16342471539974213),\n",
       " ('parasempatik', 0.15010806918144226),\n",
       " ('aynı', 0.136722132563591),\n",
       " ('sinir', 0.1282680779695511),\n",
       " ('vermek', 0.12007065862417221),\n",
       " ('bu', 0.1025552898645401),\n",
       " ('YF', 0.08055558055639267),\n",
       " ('KHD', 0.07588741183280945),\n",
       " ('sempatik', 0.04258599504828453)]"
      ]
     },
     "execution_count": 28,
     "metadata": {},
     "output_type": "execute_result"
    }
   ],
   "source": [
    "model.wv.most_similar(\"hız\")"
   ]
  },
  {
   "cell_type": "code",
   "execution_count": 26,
   "id": "massive-triple",
   "metadata": {},
   "outputs": [
    {
     "name": "stdout",
     "output_type": "stream",
     "text": [
      "[['kalp', 'hız', 'değişken', 'KHD', 'otonom', 'sinir', 'sistem', 'parasempatik', 've', 'sempatik', 'baskın', 'hak', 'bilgi', 'vermek', 'önem', 'bir', 'fizyolojik', 'işaret', 'parasempatik', 've', 'sempatik', 'baskın', 'alçak', 'frekans', 'af', 'frekans', 'YF', 'güç', 'oran', 'şekil', 'tanımlamak', 've', 'sempatovagal', 'denge', 'olmak', 'ifade', 'etmek', 'bu', 'çalışmak', 'ventriküler', 'taşiaritmi', 'hasta', 'sempatovagal', 'denge', 'değer', 'incelemek', 've', 'aynı', 'hasta', 'ait', 'normal', 'kayıt', 'el', 'etmek', 'değer', 'ile', 'karşılaştırmak', 'Ventriküler', 'taşiaritmi', 'kayıt', 'en', 'düşük', 've', 'en', 'yüksek', 'normal', 'kayıt', 'en', 'düşük', 've', 'en', 'yüksek', 'sempatovagal', 'denge', 'değer', 'el', 'etmek']]\n"
     ]
    }
   ],
   "source": [
    "print(corpus)"
   ]
  },
  {
   "cell_type": "code",
   "execution_count": null,
   "id": "disturbed-sherman",
   "metadata": {},
   "outputs": [],
   "source": []
  },
  {
   "cell_type": "code",
   "execution_count": null,
   "id": "external-design",
   "metadata": {},
   "outputs": [],
   "source": []
  }
 ],
 "metadata": {
  "kernelspec": {
   "display_name": "Python 3",
   "language": "python",
   "name": "python3"
  },
  "language_info": {
   "codemirror_mode": {
    "name": "ipython",
    "version": 3
   },
   "file_extension": ".py",
   "mimetype": "text/x-python",
   "name": "python",
   "nbconvert_exporter": "python",
   "pygments_lexer": "ipython3",
   "version": "3.8.5"
  }
 },
 "nbformat": 4,
 "nbformat_minor": 5
}
