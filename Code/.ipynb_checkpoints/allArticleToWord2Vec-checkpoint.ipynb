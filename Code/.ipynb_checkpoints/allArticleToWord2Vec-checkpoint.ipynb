{
 "cells": [
  {
   "cell_type": "code",
   "execution_count": 1,
   "id": "documentary-today",
   "metadata": {},
   "outputs": [],
   "source": [
    "from gensim.models.word2vec import LineSentence\n",
    "from gensim.models import Word2Vec\n",
    "import pandas as pd\n",
    "import nltk\n",
    "import xml.etree.ElementTree as ET\n",
    "import os\n",
    "import gensim"
   ]
  },
  {
   "cell_type": "code",
   "execution_count": 3,
   "id": "thrown-swing",
   "metadata": {},
   "outputs": [
    {
     "name": "stdout",
     "output_type": "stream",
     "text": [
      "../Stemming/Makale Kokleri/Biyoloji.xml\n",
      "../Stemming/Makale Kokleri/Turizm.xml\n",
      "../Stemming/Makale Kokleri/İnşaat Mühendisliği.xml\n",
      "../Stemming/Makale Kokleri/temeltip.xml\n",
      "../Stemming/Makale Kokleri/Hukuk.xml\n",
      "../Stemming/Makale Kokleri/sosyoloji.xml\n",
      "../Stemming/Makale Kokleri/Çevre_Mühendisliği.xml\n",
      "../Stemming/Makale Kokleri/HariciTıp.xml\n",
      "../Stemming/Makale Kokleri/eğitimbilimleri.xml\n",
      "../Stemming/Makale Kokleri/mimarlık.xml\n",
      "../Stemming/Makale Kokleri/Eczacılık.xml\n",
      "../Stemming/Makale Kokleri/elektronik_iletisim.xml\n",
      "../Stemming/Makale Kokleri/Spor Bilimleri.xml\n",
      "../Stemming/Makale Kokleri/makinamühendisliği.xml\n",
      "../Stemming/Makale Kokleri/jeoloji.xml\n",
      "../Stemming/Makale Kokleri/Felsefe.xml\n",
      "../Stemming/Makale Kokleri/İletişim.xml\n",
      "../Stemming/Makale Kokleri/Tarih.xml\n",
      "../Stemming/Makale Kokleri/Coğrafya.xml\n",
      "../Stemming/Makale Kokleri/endustri muhendisligi.xml\n",
      "../Stemming/Makale Kokleri/Dahili_Tıp.xml\n",
      "../Stemming/Makale Kokleri/Hayvancılık.xml\n",
      "../Stemming/Makale Kokleri/Dini_Araştırmalar.xml\n",
      "../Stemming/Makale Kokleri/biyomedikal.xml\n",
      "../Stemming/Makale Kokleri/ekonomi.xml\n",
      "../Stemming/Makale Kokleri/Ekonometri-iibf.xml\n",
      "../Stemming/Makale Kokleri/gıdamühendisliği.xml\n",
      "../Stemming/Makale Kokleri/Dilbilim.xml\n"
     ]
    }
   ],
   "source": [
    "path = '../Stemming/Makale Kokleri/'\n",
    "docs = []\n",
    "for filename in os.listdir(path):\n",
    "    \n",
    "     \n",
    "    fullname = os.path.join(path, filename)\n",
    "    print(fullname)\n",
    "    tree = ET.parse(fullname)\n",
    "    root = tree.getroot()\n",
    "    for ozetce in root:\n",
    "        ozetce = ozetce.text\n",
    "        ozetce = str(ozetce)\n",
    "        docs.append(ozetce)\n"
   ]
  },
  {
   "cell_type": "code",
   "execution_count": 12,
   "id": "incredible-announcement",
   "metadata": {},
   "outputs": [
    {
     "name": "stdout",
     "output_type": "stream",
     "text": [
      " dolaz peynir göl bölge Yörük tarafından  peyniraltı su gelenek olmak üremek bir peynir çeşit bu çalışmak amaç dolaz peynir üretim yöntem gelenek üretim yerinde tespit etmek üremek peynir  mikrobiyal bazı uçmak aroma bileşen içerik ve duyu özellik belirlemek gelenek dolaz peynir örnek toplam bakteri içerik  log içerik  log  koliform içerik  log  laktobasil içerik  log ve  laktokok içerik ise  log değer Aralık bulunmak gelenek dolaz peynir örnek asetaldehit içerik ortalama aseton içerik etanol içerik asetik asit içerik  diasetil içerik ve içerik ise olmak tespit etmek tanımlamak duyu analiz bulgu göre dolaz peynir karakteristik duyu özellik yumuşak sarı açık kahve renk kendi özgü koku ve tat sahip uzun sürmek ısıl işlemek rağmen pişmek tat hissetmek çökelek benzeri  granüler yapı bir peynir olmak belirlemek  \n"
     ]
    }
   ],
   "source": [
    "print(docs[5100])"
   ]
  },
  {
   "cell_type": "code",
   "execution_count": 14,
   "id": "collect-andrews",
   "metadata": {},
   "outputs": [],
   "source": [
    "kelimeler = []\n",
    "for i in docs:\n",
    "    kelimeler.append(i.split())"
   ]
  },
  {
   "cell_type": "code",
   "execution_count": 29,
   "id": "sitting-religious",
   "metadata": {},
   "outputs": [
    {
     "name": "stdout",
     "output_type": "stream",
     "text": [
      "['bu', 'araştırmak', 'Karacabey', 'Anadolu', 've', 'Sultansuyu', 'tarım', 'işlemek', 'ile', 'Türkiye', 'jokey', 'kulüp', 'ne', 'bağ', 'mahmudiye', 'pansiyon', 'hara', 'NDA', 'yetişmek', 'safkan', 'arap', 'at', 'don', 'nişane', 'Al', 'servi', 'incelemek', 've', 'bu', 'ait', 'kalıtım', 'derece', 'hesaplamak', 'araştırmak', 'fark', 'yaş', 've', 'cinsiyet', '977', 'ata', 'ait', 'veri', 'kullanmak', 'don', 'nişane', 've', 'Al', 'servi', 'işlemek', 'yaş', 've', 'cinsiyet', 'göre', 'bulunmak', 'yüzde', 'hesaplamak', 'kalıtım', 'derece', 'hesaplamak', 'birey', 'hayvan', 'model', 'kullanmak', 'tay', 'doğmak', 'un', 'Al', 'inmek', 'Doru', 'don', 'değişim', 'sonra', 'bu', 'oran', 'Al', 'Doru', 've', 'kırmak', 'olmak', 'tespit', 'etmek', 'kalıtım', 'derece', 'doğmak', 'sahip', 'olmak', 'don', 'için', 'don', 'değişim', 'sonra', 'don', 'için', 'toplam', 'nişane', 'için', 'baş', 'nişane', 'için', 'toplam', 'seki', 'için', 'sağ', 'ön', 'seki', 'için', 'sağ', 'arka', 'seki', 'için', 'sol', 'ön', 'seki', 'için', 'sol', 'arka', 'seki', 'için', 've', 'Al', 'servi', 'için', 'olmak', 'hesaplamak', 'sonuç', 'olmak', 'kırmak', 'don', 'oran', 'artmak', 'görmek', 'kırmak', 'don', 'oran', 'azalmak', 'istemek', 'damızlık', 'olmak', 'kullanmak', 'at', 'yarış', 'performans', 'ile', 'birlikte', 'don', 'da', 'önem', 'vermek', 'gerekmek', 'kalıtım', 'derece', 'yüksek', 've', 'orta', 'düzey', 'olmak', 'damızlık', 'seçim', 'önem', 'vermek', 'bu', 'özellik', 'bakım', 'değişik', 'sağlamak', 'göstermek']\n"
     ]
    }
   ],
   "source": [
    "print(kelimeler[4002])"
   ]
  },
  {
   "cell_type": "code",
   "execution_count": 30,
   "id": "olympic-participation",
   "metadata": {},
   "outputs": [],
   "source": [
    "model =Word2Vec(kelimeler, vector_size =100,window = 10, min_count= 1, sg = 0)"
   ]
  },
  {
   "cell_type": "code",
   "execution_count": 39,
   "id": "proof-england",
   "metadata": {},
   "outputs": [
    {
     "data": {
      "text/plain": [
       "array([-2.0241377 ,  1.7486376 ,  1.6888891 ,  0.46339977, -1.0982827 ,\n",
       "        1.2902586 , -0.3870321 , -2.0217044 , -1.1475358 ,  0.1545598 ,\n",
       "       -1.1527634 , -4.624513  , -1.1277809 ,  1.24739   , -0.94666433,\n",
       "        2.0325816 , -3.021161  , -0.23058715, -0.9246288 ,  0.4455167 ,\n",
       "        0.43184325,  1.978325  ,  1.9070835 , -0.15683183, -2.0281277 ,\n",
       "        2.7595754 ,  0.33161268,  1.0495293 , -0.6327501 ,  0.08346499,\n",
       "        1.0063184 , -2.2315717 ,  0.9792493 ,  1.2140024 , -0.33218297,\n",
       "        1.3450158 , -1.9446627 ,  0.6231938 ,  0.5193782 , -0.56392807,\n",
       "        0.4877127 , -0.8651687 , -0.9557672 ,  0.46773726, -0.00959978,\n",
       "        0.9948242 ,  1.8858339 ,  0.7523264 , -0.94973695,  0.714005  ,\n",
       "       -0.63595754, -1.0037211 ,  0.7491867 ,  1.2499363 , -0.9924038 ,\n",
       "       -0.8388192 ,  2.3872144 , -1.0790905 , -1.027514  , -0.39278287,\n",
       "       -2.4974897 ,  1.2493193 , -1.5233122 ,  2.513315  , -0.94936216,\n",
       "       -0.1431458 ,  3.4357486 ,  2.6369078 ,  0.66298586,  1.8953996 ,\n",
       "        0.02909956, -1.368717  ,  0.12921873, -1.0870283 ,  0.6144236 ,\n",
       "        0.24519685,  0.7303544 ,  0.04025607,  1.4218191 ,  0.23224813,\n",
       "       -2.335789  , -1.5402826 , -1.016466  , -0.4661691 , -0.29631266,\n",
       "        0.59453624,  1.2203671 , -0.48467323, -0.34184614, -2.5327313 ,\n",
       "       -0.5060719 ,  0.19385546,  0.48419738, -1.6692148 ,  0.7088861 ,\n",
       "       -0.76892364, -1.9639208 ,  0.8340063 ,  2.6452143 ,  1.462232  ],\n",
       "      dtype=float32)"
      ]
     },
     "execution_count": 39,
     "metadata": {},
     "output_type": "execute_result"
    }
   ],
   "source": [
    "model.wv[\"Türkiye\"]"
   ]
  },
  {
   "cell_type": "code",
   "execution_count": 40,
   "id": "stock-bulletin",
   "metadata": {},
   "outputs": [
    {
     "data": {
      "text/plain": [
       "[('Ab', 0.8477361798286438),\n",
       " ('Kktc', 0.844542920589447),\n",
       " ('cumhuriyet', 0.7633749842643738),\n",
       " ('nin', 0.7631795406341553),\n",
       " ('İstanbul', 0.7552620768547058),\n",
       " ('ülke', 0.7552116513252258),\n",
       " ('Avrupa', 0.7525559663772583),\n",
       " ('dek', 0.7334602475166321),\n",
       " ('ABD', 0.7312437295913696),\n",
       " ('OECD', 0.7215010523796082)]"
      ]
     },
     "execution_count": 40,
     "metadata": {},
     "output_type": "execute_result"
    }
   ],
   "source": [
    "model.wv.most_similar(\"Türkiye\")"
   ]
  },
  {
   "cell_type": "code",
   "execution_count": 41,
   "id": "banner-rebecca",
   "metadata": {},
   "outputs": [],
   "source": [
    "model.save(\"word2vec.model\")"
   ]
  },
  {
   "cell_type": "code",
   "execution_count": 42,
   "id": "acknowledged-resort",
   "metadata": {},
   "outputs": [],
   "source": [
    "model2 = Word2Vec.load(\"word2vec.model\")"
   ]
  },
  {
   "cell_type": "code",
   "execution_count": 51,
   "id": "pursuant-corps",
   "metadata": {},
   "outputs": [
    {
     "data": {
      "text/plain": [
       "[('Ab', 0.8477361798286438),\n",
       " ('Kktc', 0.844542920589447),\n",
       " ('cumhuriyet', 0.7633749842643738),\n",
       " ('nin', 0.7631795406341553),\n",
       " ('İstanbul', 0.7552620768547058),\n",
       " ('ülke', 0.7552116513252258),\n",
       " ('Avrupa', 0.7525559663772583),\n",
       " ('dek', 0.7334602475166321),\n",
       " ('ABD', 0.7312437295913696),\n",
       " ('OECD', 0.7215010523796082)]"
      ]
     },
     "execution_count": 51,
     "metadata": {},
     "output_type": "execute_result"
    }
   ],
   "source": [
    "model2.wv.most_similar(\"Türkiye\")"
   ]
  },
  {
   "cell_type": "code",
   "execution_count": 52,
   "id": "relative-phenomenon",
   "metadata": {},
   "outputs": [],
   "source": [
    "import numpy as np\n",
    "import matplotlib.pyplot as plt\n",
    "\n",
    "from sklearn.manifold import TSNE\n",
    "# Input data files are available in the \"../input/\" directory.\n",
    "# For example, running this (by clicking run or pressing Shift+Enter) will list the files in the input directory\n",
    "\n",
    "import os"
   ]
  },
  {
   "cell_type": "code",
   "execution_count": 53,
   "id": "absent-arkansas",
   "metadata": {},
   "outputs": [],
   "source": [
    "def closestwords_tsneplot(model, word):\n",
    "    word_vectors = np.empty((0,100))\n",
    "    word_labels = [word]\n",
    "    close_words = model.wv.most_similar(word)\n",
    "    word_vectors = np.append(word_vectors, np.array([model.wv[word]]), axis = 0)\n",
    "    \n",
    "    for w, _ in close_words:\n",
    "        word_labels.append(w)\n",
    "        word_vectors = np.append(word_vectors, np.array([model.wv[w]]), axis = 0)\n",
    "    tsne = TSNE(random_state = 0)\n",
    "    Y = tsne.fit_transform(word_vectors)\n",
    "    x_coords = Y[:,0]\n",
    "    y_coords = Y[:,1]\n",
    "    plt.scatter(x_coords, y_coords)\n",
    "    \n",
    "    for label, x, y in zip(word_labels, x_coords, y_coords):\n",
    "        plt.annotate(label, xy = (x,y), xytext = (5, -2), textcoords = \"offset points\")\n",
    "    \n",
    "    plt.show()"
   ]
  },
  {
   "cell_type": "code",
   "execution_count": 54,
   "id": "another-copper",
   "metadata": {},
   "outputs": [
    {
     "data": {
      "image/png": "[encoded data removed]",
      "text/plain": [
       "<Figure size 432x288 with 1 Axes>"
      ]
     },
     "metadata": {
      "needs_background": "light"
     },
     "output_type": "display_data"
    }
   ],
   "source": [
    "closestwords_tsneplot(model2,\"Türkiye\")"
   ]
  },
  {
   "cell_type": "code",
   "execution_count": null,
   "id": "sized-survey",
   "metadata": {},
   "outputs": [],
   "source": []
  }
 ],
 "metadata": {
  "kernelspec": {
   "display_name": "Python 3",
   "language": "python",
   "name": "python3"
  },
  "language_info": {
   "codemirror_mode": {
    "name": "ipython",
    "version": 3
   },
   "file_extension": ".py",
   "mimetype": "text/x-python",
   "name": "python",
   "nbconvert_exporter": "python",
   "pygments_lexer": "ipython3",
   "version": "3.8.5"
  }
 },
 "nbformat": 4,
 "nbformat_minor": 5
}
