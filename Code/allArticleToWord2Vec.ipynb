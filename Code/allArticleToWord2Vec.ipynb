{
 "cells": [
  {
   "cell_type": "code",
   "execution_count": 1,
   "id": "documentary-today",
   "metadata": {},
   "outputs": [],
   "source": [
    "from gensim.models.word2vec import LineSentence\n",
    "from gensim.models import Word2Vec\n",
    "import pandas as pd\n",
    "import nltk\n",
    "import xml.etree.ElementTree as ET\n",
    "import os\n",
    "import gensim"
   ]
  },
  {
   "cell_type": "code",
   "execution_count": 2,
   "id": "thrown-swing",
   "metadata": {},
   "outputs": [
    {
     "name": "stdout",
     "output_type": "stream",
     "text": [
      "../stopwords_filtered/Biyoloji.xml\n",
      "../stopwords_filtered/Turizm.xml\n",
      "../stopwords_filtered/İnşaat Mühendisliği.xml\n",
      "../stopwords_filtered/temeltip.xml\n",
      "../stopwords_filtered/Hukuk.xml\n",
      "../stopwords_filtered/sosyoloji.xml\n",
      "../stopwords_filtered/Çevre_Mühendisliği.xml\n",
      "../stopwords_filtered/HariciTıp.xml\n",
      "../stopwords_filtered/eğitimbilimleri.xml\n",
      "../stopwords_filtered/mimarlık.xml\n",
      "../stopwords_filtered/Eczacılık.xml\n",
      "../stopwords_filtered/elektronik_iletisim.xml\n",
      "../stopwords_filtered/Spor Bilimleri.xml\n",
      "../stopwords_filtered/makinamühendisliği.xml\n",
      "../stopwords_filtered/jeoloji.xml\n",
      "../stopwords_filtered/Felsefe.xml\n",
      "../stopwords_filtered/İletişim.xml\n",
      "../stopwords_filtered/Tarih.xml\n",
      "../stopwords_filtered/Coğrafya.xml\n",
      "../stopwords_filtered/endustri muhendisligi.xml\n",
      "../stopwords_filtered/Dahili_Tıp.xml\n",
      "../stopwords_filtered/Hayvancılık.xml\n",
      "../stopwords_filtered/Dini_Araştırmalar.xml\n",
      "../stopwords_filtered/biyomedikal.xml\n",
      "../stopwords_filtered/ekonomi.xml\n",
      "../stopwords_filtered/Ekonometri-iibf.xml\n",
      "../stopwords_filtered/gıdamühendisliği.xml\n",
      "../stopwords_filtered/Dilbilim.xml\n"
     ]
    }
   ],
   "source": [
    "path = '../stopwords_filtered/'\n",
    "docs = []\n",
    "for filename in os.listdir(path):\n",
    "    \n",
    "     \n",
    "    fullname = os.path.join(path, filename)\n",
    "    print(fullname)\n",
    "    tree = ET.parse(fullname)\n",
    "    root = tree.getroot()\n",
    "    for ozetce in root:\n",
    "        ozetce = ozetce.text\n",
    "        ozetce = str(ozetce)\n",
    "        docs.append(ozetce)\n"
   ]
  },
  {
   "cell_type": "code",
   "execution_count": 6,
   "id": "incredible-announcement",
   "metadata": {},
   "outputs": [
    {
     "name": "stdout",
     "output_type": "stream",
     "text": [
      " insan sağlık gıda talep birlikte karabuğday Fagopyrum esculentum Moench Fagopyrum tataricum Gaertner Fagopyrum emarginatum önem gitmek artmak karabuğday dünya ülke üremek önem gün geçmek artmak uluslararası ticaret yer gitmek gelişmek tahıl benzeri pseudocereal tek yıllık bitki karabuğday yüksek beslemek değer sahip beslemek önem protein kaynak yan nişasta besin lif vitamin temel mineral iz element içermek karabuğday rutin Orient kuersetin fenolik madde bol miktar içermek bugün dünya gelişmek gluten gıda örnek ekmek makarna bisküvi tahıl benzeri ad üremek karabuğday Çölyak hasta gluten alerjik reaksiyon göstermek has alternatif gıda el önem kaynak\n"
     ]
    }
   ],
   "source": [
    "print(docs[5002])"
   ]
  },
  {
   "cell_type": "code",
   "execution_count": 7,
   "id": "collect-andrews",
   "metadata": {},
   "outputs": [],
   "source": [
    "kelimeler = []\n",
    "for i in docs:\n",
    "    kelimeler.append(i.split())"
   ]
  },
  {
   "cell_type": "code",
   "execution_count": 8,
   "id": "sitting-religious",
   "metadata": {},
   "outputs": [
    {
     "name": "stdout",
     "output_type": "stream",
     "text": [
      "['insan', 'sağlık', 'gıda', 'talep', 'birlikte', 'karabuğday', 'Fagopyrum', 'esculentum', 'Moench', 'Fagopyrum', 'tataricum', 'Gaertner', 'Fagopyrum', 'emarginatum', 'önem', 'gitmek', 'artmak', 'karabuğday', 'dünya', 'ülke', 'üremek', 'önem', 'gün', 'geçmek', 'artmak', 'uluslararası', 'ticaret', 'yer', 'gitmek', 'gelişmek', 'tahıl', 'benzeri', 'pseudocereal', 'tek', 'yıllık', 'bitki', 'karabuğday', 'yüksek', 'beslemek', 'değer', 'sahip', 'beslemek', 'önem', 'protein', 'kaynak', 'yan', 'nişasta', 'besin', 'lif', 'vitamin', 'temel', 'mineral', 'iz', 'element', 'içermek', 'karabuğday', 'rutin', 'Orient', 'kuersetin', 'fenolik', 'madde', 'bol', 'miktar', 'içermek', 'bugün', 'dünya', 'gelişmek', 'gluten', 'gıda', 'örnek', 'ekmek', 'makarna', 'bisküvi', 'tahıl', 'benzeri', 'ad', 'üremek', 'karabuğday', 'Çölyak', 'hasta', 'gluten', 'alerjik', 'reaksiyon', 'göstermek', 'has', 'alternatif', 'gıda', 'el', 'önem', 'kaynak']\n"
     ]
    }
   ],
   "source": [
    "print(kelimeler[5002])"
   ]
  },
  {
   "cell_type": "code",
   "execution_count": 9,
   "id": "olympic-participation",
   "metadata": {},
   "outputs": [],
   "source": [
    "model =Word2Vec(kelimeler, vector_size =100,window = 10, min_count= 1, sg = 1)"
   ]
  },
  {
   "cell_type": "code",
   "execution_count": 10,
   "id": "proof-england",
   "metadata": {},
   "outputs": [
    {
     "data": {
      "text/plain": [
       "array([-0.5796259 ,  0.0616551 , -0.10126258, -0.34947824, -0.1757821 ,\n",
       "       -0.61307955,  0.01702462,  0.578293  , -0.39635822, -0.19418393,\n",
       "        0.24887826, -0.85553986, -0.02294385,  0.023562  , -0.11645735,\n",
       "       -0.22167882, -0.5536182 , -0.18710834,  0.07768117, -0.6010254 ,\n",
       "        0.36995378, -0.30906463,  0.24998048,  0.36873028, -0.23077999,\n",
       "        0.16692492,  0.22075073, -0.22145925, -0.03370107, -0.37589148,\n",
       "        0.255898  ,  0.36045602,  0.4312692 ,  0.34408036,  0.2640548 ,\n",
       "       -0.674893  , -0.2704149 , -0.28338188, -0.4421873 , -0.12766513,\n",
       "        0.08306326,  0.16414924, -0.15918107,  0.5803219 , -0.1604735 ,\n",
       "       -0.44172525,  0.25688535, -0.1323048 ,  0.5103358 , -0.51419777,\n",
       "       -0.19768104, -0.11943577,  0.38872936, -0.23308906,  0.2632508 ,\n",
       "       -0.68146604,  0.1252574 ,  0.66707325,  0.00559156,  0.05508571,\n",
       "        0.07800899,  0.15631038,  0.19995481, -0.24606903,  0.09424809,\n",
       "        0.69584405, -0.45811734, -0.307729  ,  0.09418887, -0.14631723,\n",
       "       -0.5493005 , -0.3412572 ,  0.02967234, -0.3242554 ,  0.10393861,\n",
       "        0.10713771, -0.21625766, -0.2811042 ,  0.29101792, -0.22325964,\n",
       "        0.19039746,  0.5597715 , -0.92345273,  0.229979  ,  0.52133673,\n",
       "       -0.7632163 ,  0.3133436 ,  0.4821308 ,  0.6436198 ,  0.29708   ,\n",
       "        0.48900265,  0.01866293, -0.02574649, -0.17718199,  0.51519   ,\n",
       "        0.06220393,  0.20469502, -0.53755915,  0.5536564 , -0.07085776],\n",
       "      dtype=float32)"
      ]
     },
     "execution_count": 10,
     "metadata": {},
     "output_type": "execute_result"
    }
   ],
   "source": [
    "model.wv[\"Türkiye\"]"
   ]
  },
  {
   "cell_type": "code",
   "execution_count": 24,
   "id": "stock-bulletin",
   "metadata": {
    "scrolled": true
   },
   "outputs": [
    {
     "data": {
      "text/plain": [
       "[('ülke', 0.7854741811752319),\n",
       " ('Japonya', 0.7655404806137085),\n",
       " ('OECD', 0.7543280124664307),\n",
       " ('ticaret', 0.7519504427909851),\n",
       " ('Ab', 0.7449021339416504),\n",
       " ('Avrupa', 0.740999162197113),\n",
       " ('Bulgaristan', 0.7394465208053589),\n",
       " ('komite', 0.7357869744300842),\n",
       " ('ithalat', 0.7347165942192078),\n",
       " ('ihracat', 0.734265923500061)]"
      ]
     },
     "execution_count": 24,
     "metadata": {},
     "output_type": "execute_result"
    }
   ],
   "source": [
    "model.wv.most_similar(\"Türkiye\")"
   ]
  },
  {
   "cell_type": "code",
   "execution_count": 11,
   "id": "banner-rebecca",
   "metadata": {},
   "outputs": [],
   "source": [
    "model.save(\"word2vec.model\")"
   ]
  },
  {
   "cell_type": "code",
   "execution_count": 12,
   "id": "acknowledged-resort",
   "metadata": {},
   "outputs": [],
   "source": [
    "model2 = Word2Vec.load(\"word2vec.model\")"
   ]
  },
  {
   "cell_type": "code",
   "execution_count": 13,
   "id": "pursuant-corps",
   "metadata": {},
   "outputs": [
    {
     "data": {
      "text/plain": [
       "[('ülke', 0.7924779653549194),\n",
       " ('ihracat', 0.7728981971740723),\n",
       " ('Bulgaristan', 0.757687509059906),\n",
       " ('OECD', 0.7526914477348328),\n",
       " ('Ab', 0.746467649936676),\n",
       " ('Japonya', 0.7457159757614136),\n",
       " ('ABD', 0.7350347638130188),\n",
       " ('1989', 0.7316733002662659),\n",
       " ('Avrupa', 0.7261844873428345),\n",
       " ('ithalat', 0.7243170142173767)]"
      ]
     },
     "execution_count": 13,
     "metadata": {},
     "output_type": "execute_result"
    }
   ],
   "source": [
    "model2.wv.most_similar(\"Türkiye\")"
   ]
  },
  {
   "cell_type": "code",
   "execution_count": 14,
   "id": "relative-phenomenon",
   "metadata": {},
   "outputs": [],
   "source": [
    "import numpy as np\n",
    "import matplotlib.pyplot as plt\n",
    "\n",
    "from sklearn.manifold import TSNE\n",
    "# Input data files are available in the \"../input/\" directory.\n",
    "# For example, running this (by clicking run or pressing Shift+Enter) will list the files in the input directory\n",
    "\n",
    "import os"
   ]
  },
  {
   "cell_type": "code",
   "execution_count": 15,
   "id": "absent-arkansas",
   "metadata": {},
   "outputs": [],
   "source": [
    "def closestwords_tsneplot(model, word):\n",
    "    word_vectors = np.empty((0,100))\n",
    "    word_labels = [word]\n",
    "    close_words = model.wv.most_similar(word)\n",
    "    word_vectors = np.append(word_vectors, np.array([model.wv[word]]), axis = 0)\n",
    "    \n",
    "    for w, _ in close_words:\n",
    "        word_labels.append(w)\n",
    "        word_vectors = np.append(word_vectors, np.array([model.wv[w]]), axis = 0)\n",
    "    tsne = TSNE(random_state = 0)\n",
    "    Y = tsne.fit_transform(word_vectors)\n",
    "    x_coords = Y[:,0]\n",
    "    y_coords = Y[:,1]\n",
    "    plt.scatter(x_coords, y_coords)\n",
    "    \n",
    "    for label, x, y in zip(word_labels, x_coords, y_coords):\n",
    "        plt.annotate(label, xy = (x,y), xytext = (5, -2), textcoords = \"offset points\")\n",
    "    \n",
    "    plt.show()"
   ]
  },
  {
   "cell_type": "code",
   "execution_count": 17,
   "id": "another-copper",
   "metadata": {},
   "outputs": [
    {
     "data": {
      "image/png": "[encoded data removed]",
      "text/plain": [
       "<Figure size 432x288 with 1 Axes>"
      ]
     },
     "metadata": {
      "needs_background": "light"
     },
     "output_type": "display_data"
    }
   ],
   "source": [
    "closestwords_tsneplot(model2,\"Türkiye\")"
   ]
  },
  {
   "cell_type": "code",
   "execution_count": null,
   "id": "sized-survey",
   "metadata": {},
   "outputs": [],
   "source": []
  },
  {
   "cell_type": "code",
   "execution_count": null,
   "id": "initial-filling",
   "metadata": {},
   "outputs": [],
   "source": []
  }
 ],
 "metadata": {
  "kernelspec": {
   "display_name": "Python 3",
   "language": "python",
   "name": "python3"
  },
  "language_info": {
   "codemirror_mode": {
    "name": "ipython",
    "version": 3
   },
   "file_extension": ".py",
   "mimetype": "text/x-python",
   "name": "python",
   "nbconvert_exporter": "python",
   "pygments_lexer": "ipython3",
   "version": "3.8.5"
  }
 },
 "nbformat": 4,
 "nbformat_minor": 5
}
